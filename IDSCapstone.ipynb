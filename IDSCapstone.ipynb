{
 "metadata": {
  "name": "",
  "signature": "sha256:da0a374502b08ceacd9a985f77303c6c278ee07678cc895818b58cfd3febe470"
 },
 "nbformat": 3,
 "nbformat_minor": 0,
 "worksheets": [
  {
   "cells": [
    {
     "cell_type": "markdown",
     "metadata": {},
     "source": [
      "*Pictures"
     ]
    },
    {
     "cell_type": "heading",
     "level": 1,
     "metadata": {},
     "source": [
      "To Take or Not to Take the Subway"
     ]
    },
    {
     "cell_type": "markdown",
     "metadata": {},
     "source": [
      "The New York Subway system spans 842 miles of track with 468 stations and transports about 5 million people a day. But those are just large numbers without any feel. How many people ride when it is raining? Snowing? Is it different than when it isn\u2019t? Is it Predictable?\n",
      "\n",
      "Weather of any kind is hard to predict. Let\u2019s get a sense of what the precipitation looks like through the year of 2013."
     ]
    },
    {
     "cell_type": "code",
     "collapsed": false,
     "input": [
      "#code"
     ],
     "language": "python",
     "metadata": {},
     "outputs": [],
     "prompt_number": 2
    },
    {
     "cell_type": "markdown",
     "metadata": {},
     "source": [
      "*graph of rain"
     ]
    },
    {
     "cell_type": "code",
     "collapsed": false,
     "input": [
      "#code"
     ],
     "language": "python",
     "metadata": {},
     "outputs": [],
     "prompt_number": 3
    },
    {
     "cell_type": "markdown",
     "metadata": {},
     "source": [
      "*graph of original wallstreet data"
     ]
    },
    {
     "cell_type": "markdown",
     "metadata": {},
     "source": [
      "*Link to data cleaning process"
     ]
    },
    {
     "cell_type": "code",
     "collapsed": false,
     "input": [
      "#code"
     ],
     "language": "python",
     "metadata": {},
     "outputs": [],
     "prompt_number": 4
    },
    {
     "cell_type": "markdown",
     "metadata": {},
     "source": [
      "*graph of averages projected over raindata"
     ]
    },
    {
     "cell_type": "heading",
     "level": 2,
     "metadata": {},
     "source": [
      "Starting into regression"
     ]
    },
    {
     "cell_type": "code",
     "collapsed": false,
     "input": [],
     "language": "python",
     "metadata": {},
     "outputs": []
    }
   ],
   "metadata": {}
  }
 ]
}